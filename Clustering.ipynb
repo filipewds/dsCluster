{
 "cells": [
  {
   "cell_type": "markdown",
   "metadata": {},
   "source": [
    "# Conteúdo\n",
    "\n",
    "   1. [Desafio](#pblm)\n",
    "   2. [Pacotes](#pkg)\n",
    "   3. [Tratando variáveis Categóricas](#categ)\n",
    "       * Profissão dos Usuários"
   ]
  },
  {
   "cell_type": "markdown",
   "metadata": {},
   "source": [
    "<a id='pblm'></a>\n",
    "## 1. Desafio\n",
    "\n",
    "O desafio aqui é encontrar um agrupamento dos usuários que sejá capaz manter a homogeneidade dentro dos grupos e a heterogeneidade fora deles. Foi disponibilizado um dataset contendo 11 variáveis, 7 numéricas e 4 categóricas."
   ]
  },
  {
   "cell_type": "markdown",
   "metadata": {},
   "source": [
    "<a id='pkg'></a>"
   ]
  },
  {
   "cell_type": "code",
   "execution_count": 53,
   "metadata": {},
   "outputs": [],
   "source": [
    "import pandas as pd\n",
    "import matplotlib.pyplot as plt\n",
    "import seaborn as sns\n",
    "import numpy as np\n",
    "from mpl_toolkits.mplot3d import Axes3D\n",
    "import seaborn as sns\n",
    "sns.set_style('whitegrid')\n",
    "sns.set_context('notebook')\n",
    "\n",
    "np.random.seed(42)\n",
    "\n",
    "from fuzzywuzzy import fuzz\n",
    "from fuzzywuzzy import process\n",
    "\n",
    "from sklearn.cluster import KMeans\n",
    "%matplotlib inline\n",
    "\n",
    "plotly.tools.set_credentials_file(username='filipewds', api_key='hBPPTQn7k69934NOlsrU')"
   ]
  },
  {
   "cell_type": "code",
   "execution_count": 2,
   "metadata": {},
   "outputs": [
    {
     "name": "stdout",
     "output_type": "stream",
     "text": [
      "O dataset possui 4,972 linhas e 11 colunas.\n",
      "\n",
      "Cabeçalho dos dados:\n"
     ]
    },
    {
     "data": {
      "text/html": [
       "<div>\n",
       "<style scoped>\n",
       "    .dataframe tbody tr th:only-of-type {\n",
       "        vertical-align: middle;\n",
       "    }\n",
       "\n",
       "    .dataframe tbody tr th {\n",
       "        vertical-align: top;\n",
       "    }\n",
       "\n",
       "    .dataframe thead th {\n",
       "        text-align: right;\n",
       "    }\n",
       "</style>\n",
       "<table border=\"1\" class=\"dataframe\">\n",
       "  <thead>\n",
       "    <tr style=\"text-align: right;\">\n",
       "      <th></th>\n",
       "      <th>ID</th>\n",
       "      <th>GEO_REFERENCIA</th>\n",
       "      <th>DATA_NASCIMENTO</th>\n",
       "      <th>PROFISSAO</th>\n",
       "      <th>GENERO</th>\n",
       "      <th>ESTADO_CIVIL</th>\n",
       "      <th>VALOR_01</th>\n",
       "      <th>VALOR_02</th>\n",
       "      <th>VALOR_03</th>\n",
       "      <th>VALOR_04</th>\n",
       "      <th>PERFIL</th>\n",
       "    </tr>\n",
       "  </thead>\n",
       "  <tbody>\n",
       "    <tr>\n",
       "      <th>0</th>\n",
       "      <td>1</td>\n",
       "      <td>780</td>\n",
       "      <td>1992-08-15</td>\n",
       "      <td>ANALISTA DE SISTEMAS</td>\n",
       "      <td>M</td>\n",
       "      <td>SOLTEIRO(A)</td>\n",
       "      <td>342.857143</td>\n",
       "      <td>342.857143</td>\n",
       "      <td>428.571429</td>\n",
       "      <td>28.571429</td>\n",
       "      <td>A</td>\n",
       "    </tr>\n",
       "    <tr>\n",
       "      <th>1</th>\n",
       "      <td>2</td>\n",
       "      <td>35</td>\n",
       "      <td>1990-02-24</td>\n",
       "      <td>SERVIDOR PÚBLICO ESTADUAL</td>\n",
       "      <td>F</td>\n",
       "      <td>SOLTEIRO(A)</td>\n",
       "      <td>942.857143</td>\n",
       "      <td>0.000000</td>\n",
       "      <td>0.000000</td>\n",
       "      <td>0.000000</td>\n",
       "      <td>A</td>\n",
       "    </tr>\n",
       "    <tr>\n",
       "      <th>2</th>\n",
       "      <td>3</td>\n",
       "      <td>54</td>\n",
       "      <td>1987-07-17</td>\n",
       "      <td>ANALISTA DE SISTEMAS</td>\n",
       "      <td>M</td>\n",
       "      <td>SOLTEIRO(A)</td>\n",
       "      <td>2000.000000</td>\n",
       "      <td>0.000000</td>\n",
       "      <td>0.000000</td>\n",
       "      <td>2857.142857</td>\n",
       "      <td>A</td>\n",
       "    </tr>\n",
       "    <tr>\n",
       "      <th>3</th>\n",
       "      <td>4</td>\n",
       "      <td>35</td>\n",
       "      <td>1988-04-27</td>\n",
       "      <td>BANCARIO E ECONOMIÁRIO</td>\n",
       "      <td>M</td>\n",
       "      <td>CASADO(A) COM BRASILEIRO(A) NATO(A)</td>\n",
       "      <td>857.142857</td>\n",
       "      <td>285.714286</td>\n",
       "      <td>0.000000</td>\n",
       "      <td>1428.571429</td>\n",
       "      <td>A</td>\n",
       "    </tr>\n",
       "    <tr>\n",
       "      <th>4</th>\n",
       "      <td>5</td>\n",
       "      <td>883</td>\n",
       "      <td>1971-12-10</td>\n",
       "      <td>SERVIDOR PÚBLICO MUNICIPAL</td>\n",
       "      <td>M</td>\n",
       "      <td>CASADO(A) COM BRASILEIRO(A) NATO(A)</td>\n",
       "      <td>8615.385714</td>\n",
       "      <td>0.000000</td>\n",
       "      <td>0.000000</td>\n",
       "      <td>47471.788571</td>\n",
       "      <td>A</td>\n",
       "    </tr>\n",
       "  </tbody>\n",
       "</table>\n",
       "</div>"
      ],
      "text/plain": [
       "   ID  GEO_REFERENCIA DATA_NASCIMENTO                   PROFISSAO GENERO  \\\n",
       "0   1             780      1992-08-15        ANALISTA DE SISTEMAS      M   \n",
       "1   2              35      1990-02-24   SERVIDOR PÚBLICO ESTADUAL      F   \n",
       "2   3              54      1987-07-17        ANALISTA DE SISTEMAS      M   \n",
       "3   4              35      1988-04-27      BANCARIO E ECONOMIÁRIO      M   \n",
       "4   5             883      1971-12-10  SERVIDOR PÚBLICO MUNICIPAL      M   \n",
       "\n",
       "                          ESTADO_CIVIL     VALOR_01    VALOR_02    VALOR_03  \\\n",
       "0                          SOLTEIRO(A)   342.857143  342.857143  428.571429   \n",
       "1                          SOLTEIRO(A)   942.857143    0.000000    0.000000   \n",
       "2                          SOLTEIRO(A)  2000.000000    0.000000    0.000000   \n",
       "3  CASADO(A) COM BRASILEIRO(A) NATO(A)   857.142857  285.714286    0.000000   \n",
       "4  CASADO(A) COM BRASILEIRO(A) NATO(A)  8615.385714    0.000000    0.000000   \n",
       "\n",
       "       VALOR_04 PERFIL  \n",
       "0     28.571429      A  \n",
       "1      0.000000      A  \n",
       "2   2857.142857      A  \n",
       "3   1428.571429      A  \n",
       "4  47471.788571      A  "
      ]
     },
     "execution_count": 2,
     "metadata": {},
     "output_type": "execute_result"
    }
   ],
   "source": [
    "df = pd.read_excel(\".\\\\Dataset - Code Challenge Data Scientist.xlsx\", sheet_name=\"Dados\")\n",
    "print(\"O dataset possui\", '{0:,}'.format(df.shape[0]), \"linhas e\",df.shape[1],\"colunas.\")\n",
    "print(\"\\nCabeçalho dos dados:\")\n",
    "df.head()"
   ]
  },
  {
   "cell_type": "code",
   "execution_count": 3,
   "metadata": {},
   "outputs": [
    {
     "data": {
      "text/html": [
       "<div>\n",
       "<style scoped>\n",
       "    .dataframe tbody tr th:only-of-type {\n",
       "        vertical-align: middle;\n",
       "    }\n",
       "\n",
       "    .dataframe tbody tr th {\n",
       "        vertical-align: top;\n",
       "    }\n",
       "\n",
       "    .dataframe thead th {\n",
       "        text-align: right;\n",
       "    }\n",
       "</style>\n",
       "<table border=\"1\" class=\"dataframe\">\n",
       "  <thead>\n",
       "    <tr style=\"text-align: right;\">\n",
       "      <th></th>\n",
       "      <th>ID</th>\n",
       "      <th>GEO_REFERENCIA</th>\n",
       "      <th>VALOR_01</th>\n",
       "      <th>VALOR_02</th>\n",
       "      <th>VALOR_03</th>\n",
       "      <th>VALOR_04</th>\n",
       "    </tr>\n",
       "  </thead>\n",
       "  <tbody>\n",
       "    <tr>\n",
       "      <th>count</th>\n",
       "      <td>4972.0000</td>\n",
       "      <td>4972.000000</td>\n",
       "      <td>4972.000000</td>\n",
       "      <td>4.972000e+03</td>\n",
       "      <td>4.972000e+03</td>\n",
       "      <td>4972.000000</td>\n",
       "    </tr>\n",
       "    <tr>\n",
       "      <th>mean</th>\n",
       "      <td>2486.5000</td>\n",
       "      <td>336.807522</td>\n",
       "      <td>2022.698192</td>\n",
       "      <td>1.863806e+04</td>\n",
       "      <td>4.246265e+03</td>\n",
       "      <td>5041.123332</td>\n",
       "    </tr>\n",
       "    <tr>\n",
       "      <th>std</th>\n",
       "      <td>1435.4371</td>\n",
       "      <td>300.711983</td>\n",
       "      <td>6098.823138</td>\n",
       "      <td>8.918084e+04</td>\n",
       "      <td>3.764594e+04</td>\n",
       "      <td>23246.036503</td>\n",
       "    </tr>\n",
       "    <tr>\n",
       "      <th>min</th>\n",
       "      <td>1.0000</td>\n",
       "      <td>10.000000</td>\n",
       "      <td>0.000000</td>\n",
       "      <td>0.000000e+00</td>\n",
       "      <td>0.000000e+00</td>\n",
       "      <td>0.000000</td>\n",
       "    </tr>\n",
       "    <tr>\n",
       "      <th>25%</th>\n",
       "      <td>1243.7500</td>\n",
       "      <td>70.000000</td>\n",
       "      <td>628.571429</td>\n",
       "      <td>0.000000e+00</td>\n",
       "      <td>0.000000e+00</td>\n",
       "      <td>0.000000</td>\n",
       "    </tr>\n",
       "    <tr>\n",
       "      <th>50%</th>\n",
       "      <td>2486.5000</td>\n",
       "      <td>224.000000</td>\n",
       "      <td>1371.428571</td>\n",
       "      <td>0.000000e+00</td>\n",
       "      <td>0.000000e+00</td>\n",
       "      <td>0.000000</td>\n",
       "    </tr>\n",
       "    <tr>\n",
       "      <th>75%</th>\n",
       "      <td>3729.2500</td>\n",
       "      <td>607.000000</td>\n",
       "      <td>2571.428571</td>\n",
       "      <td>6.005771e+03</td>\n",
       "      <td>0.000000e+00</td>\n",
       "      <td>1428.571429</td>\n",
       "    </tr>\n",
       "    <tr>\n",
       "      <th>max</th>\n",
       "      <td>4972.0000</td>\n",
       "      <td>999.000000</td>\n",
       "      <td>400000.000000</td>\n",
       "      <td>2.857143e+06</td>\n",
       "      <td>1.428571e+06</td>\n",
       "      <td>685714.285714</td>\n",
       "    </tr>\n",
       "  </tbody>\n",
       "</table>\n",
       "</div>"
      ],
      "text/plain": [
       "              ID  GEO_REFERENCIA       VALOR_01      VALOR_02      VALOR_03  \\\n",
       "count  4972.0000     4972.000000    4972.000000  4.972000e+03  4.972000e+03   \n",
       "mean   2486.5000      336.807522    2022.698192  1.863806e+04  4.246265e+03   \n",
       "std    1435.4371      300.711983    6098.823138  8.918084e+04  3.764594e+04   \n",
       "min       1.0000       10.000000       0.000000  0.000000e+00  0.000000e+00   \n",
       "25%    1243.7500       70.000000     628.571429  0.000000e+00  0.000000e+00   \n",
       "50%    2486.5000      224.000000    1371.428571  0.000000e+00  0.000000e+00   \n",
       "75%    3729.2500      607.000000    2571.428571  6.005771e+03  0.000000e+00   \n",
       "max    4972.0000      999.000000  400000.000000  2.857143e+06  1.428571e+06   \n",
       "\n",
       "            VALOR_04  \n",
       "count    4972.000000  \n",
       "mean     5041.123332  \n",
       "std     23246.036503  \n",
       "min         0.000000  \n",
       "25%         0.000000  \n",
       "50%         0.000000  \n",
       "75%      1428.571429  \n",
       "max    685714.285714  "
      ]
     },
     "execution_count": 3,
     "metadata": {},
     "output_type": "execute_result"
    }
   ],
   "source": [
    "df.describe()"
   ]
  },
  {
   "cell_type": "code",
   "execution_count": 4,
   "metadata": {},
   "outputs": [
    {
     "data": {
      "image/png": "[encoded data removed]",
      "text/plain": [
       "<matplotlib.figure.Figure at 0x24419a760b8>"
      ]
     },
     "metadata": {
      "needs_background": "light"
     },
     "output_type": "display_data"
    }
   ],
   "source": [
    "cols_vals = [var for var in df.columns.values if \"VALOR\" in var.upper()]\n",
    "df_num = df[cols_vals];\n",
    "sns.pairplot(df_num)\n",
    "plt.tight_layout()\n",
    "plt.show()"
   ]
  },
  {
   "cell_type": "code",
   "execution_count": 5,
   "metadata": {},
   "outputs": [
    {
     "data": {
      "image/png": "[encoded data removed]",
      "text/plain": [
       "<matplotlib.figure.Figure at 0x2441b2a7da0>"
      ]
     },
     "metadata": {
      "needs_background": "light"
     },
     "output_type": "display_data"
    }
   ],
   "source": [
    "df_corr = df_num.corr()\n",
    "sns.heatmap(df_corr, annot=True, cmap = \"YlGn\")\n",
    "plt.tight_layout()\n",
    "plt.show()"
   ]
  },
  {
   "cell_type": "code",
   "execution_count": 34,
   "metadata": {},
   "outputs": [
    {
     "name": "stdout",
     "output_type": "stream",
     "text": [
      "A variável Profissão possui 79 profissões distintas\n",
      "Dentre elas, as mais frequentes são:\n"
     ]
    },
    {
     "data": {
      "image/png": "[encoded data removed]",
      "text/plain": [
       "<matplotlib.figure.Figure at 0x2441ef53438>"
      ]
     },
     "metadata": {
      "needs_background": "light"
     },
     "output_type": "display_data"
    }
   ],
   "source": [
    "profi_count = df.groupby('PROFISSAO').count()['ID']\n",
    "top10_profi = profi_count.sort_values(ascending=False).head(10)\n",
    "\n",
    "print(\"A variável Profissão possui\",df.PROFISSAO.nunique(),\"profissões distintas\")\n",
    "print(\"Dentre elas, as mais frequentes são:\")\n",
    "\n",
    "#bplot_profi = [go.Bar(y=top10_profi, x=top10_profi.index.values)]\n",
    "#ply.iplot(bplot_profi)\n",
    "\n",
    "plt.figure(figsize=(7,8))\n",
    "sns.barplot(x=top10_profi, y=top10_profi.index, saturation=0.6)\n",
    "plt.xlabel(\"Frequência\")\n",
    "plt.show()"
   ]
  },
  {
   "cell_type": "markdown",
   "metadata": {},
   "source": [
    "Classificação das profissões: [url](http://www.cofen.gov.br/wp-content/uploads/2015/12/CLASSIFICA%C3%87%C3%83O-BRASILEIRA-DE-OCUPA%C3%87%C3%95ES-MEC.pdf)\n",
    "\n",
    "Estrutura do CBO: [CBO](http://www.mtecbo.gov.br/cbosite/pages/downloads.jsf)"
   ]
  },
  {
   "cell_type": "code",
   "execution_count": 44,
   "metadata": {},
   "outputs": [
    {
     "data": {
      "text/html": [
       "<div>\n",
       "<style scoped>\n",
       "    .dataframe tbody tr th:only-of-type {\n",
       "        vertical-align: middle;\n",
       "    }\n",
       "\n",
       "    .dataframe tbody tr th {\n",
       "        vertical-align: top;\n",
       "    }\n",
       "\n",
       "    .dataframe thead th {\n",
       "        text-align: right;\n",
       "    }\n",
       "</style>\n",
       "<table border=\"1\" class=\"dataframe\">\n",
       "  <thead>\n",
       "    <tr style=\"text-align: right;\">\n",
       "      <th></th>\n",
       "      <th>CODIGO</th>\n",
       "      <th>TITULO</th>\n",
       "    </tr>\n",
       "  </thead>\n",
       "  <tbody>\n",
       "    <tr>\n",
       "      <th>0</th>\n",
       "      <td>10105</td>\n",
       "      <td>Oficial general da aeronáutica</td>\n",
       "    </tr>\n",
       "    <tr>\n",
       "      <th>1</th>\n",
       "      <td>10110</td>\n",
       "      <td>Oficial general do exército</td>\n",
       "    </tr>\n",
       "    <tr>\n",
       "      <th>2</th>\n",
       "      <td>10115</td>\n",
       "      <td>Oficial general da marinha</td>\n",
       "    </tr>\n",
       "    <tr>\n",
       "      <th>3</th>\n",
       "      <td>10205</td>\n",
       "      <td>Oficial da aeronáutica</td>\n",
       "    </tr>\n",
       "    <tr>\n",
       "      <th>4</th>\n",
       "      <td>10210</td>\n",
       "      <td>Oficial do exército</td>\n",
       "    </tr>\n",
       "  </tbody>\n",
       "</table>\n",
       "</div>"
      ],
      "text/plain": [
       "   CODIGO                          TITULO\n",
       "0   10105  Oficial general da aeronáutica\n",
       "1   10110     Oficial general do exército\n",
       "2   10115      Oficial general da marinha\n",
       "3   10205          Oficial da aeronáutica\n",
       "4   10210             Oficial do exército"
      ]
     },
     "execution_count": 44,
     "metadata": {},
     "output_type": "execute_result"
    }
   ],
   "source": [
    "ocup = pd.read_csv(\"./CBO2002 - Ocupacao.csv\", sep=\";\",encoding = \"ISO-8859-1\")\n",
    "ocup.head()"
   ]
  },
  {
   "cell_type": "code",
   "execution_count": 105,
   "metadata": {},
   "outputs": [
    {
     "name": "stdout",
     "output_type": "stream",
     "text": [
      "Para a profissão Estatístico\n",
      " * Resultados similares: \n",
      "\t1 - Estatístico \n",
      "\t2 - Estatístico (estatística aplicada) \n",
      "\t3 - Estatístico teórico\n"
     ]
    }
   ],
   "source": [
    "def FindJob(Job):\n",
    "    \"\"\"\n",
    "    Função para encontrar as profissões registradas no CBO2002 que mais \n",
    "    se assimilam ao parâmetro de entrada;\n",
    "    \"\"\"\n",
    "    print(\"Para a profissão\",Job)\n",
    "    res = process.extract(Job, ocup.TITULO, limit=3)\n",
    "    print(\" * Resultados similares:\",  \n",
    "            *['\\n\\t' + str(i+1) + ' - ' + res[i][0] for i in range(3)])\n",
    "    return\n",
    "    \n",
    "\n",
    "FindJob(\"Estatístico\")"
   ]
  },
  {
   "cell_type": "code",
   "execution_count": null,
   "metadata": {},
   "outputs": [],
   "source": [
    "def MatchJob(Job):\n",
    "    \"\"\"\n",
    "    Encontra e retorna a ocupação mais similar de acordo com o agrupamento\n",
    "    CBO2002.\n",
    "    \"\"\"\n",
    "    match = process.extract(Job, ocup.TITULO, limit=1)\n",
    "    return match[0][0]\n",
    "\n",
    "# Criando uma coluna referente ao agrupamento CBO2002\n",
    "df['OCUPACAO_CBO'] = df['PROFISSAO'].apply(MatchJob)"
   ]
  },
  {
   "cell_type": "markdown",
   "metadata": {},
   "source": [
    "Para não ter que rodar este processo toda vez,"
   ]
  },
  {
   "cell_type": "code",
   "execution_count": null,
   "metadata": {},
   "outputs": [],
   "source": []
  }
 ],
 "metadata": {
  "kernelspec": {
   "display_name": "Python 3",
   "language": "python",
   "name": "python3"
  },
  "language_info": {
   "codemirror_mode": {
    "name": "ipython",
    "version": 3
   },
   "file_extension": ".py",
   "mimetype": "text/x-python",
   "name": "python",
   "nbconvert_exporter": "python",
   "pygments_lexer": "ipython3",
   "version": "3.6.4"
  }
 },
 "nbformat": 4,
 "nbformat_minor": 2
}
